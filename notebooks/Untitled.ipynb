{
 "cells": [
  {
   "cell_type": "code",
   "execution_count": 2,
   "id": "aea2e5ea",
   "metadata": {},
   "outputs": [
    {
     "name": "stderr",
     "output_type": "stream",
     "text": [
      "WARNING:absl:No GPU/TPU found, falling back to CPU. (Set TF_CPP_MIN_LOG_LEVEL=0 and rerun for more info.)\n"
     ]
    },
    {
     "ename": "NameError",
     "evalue": "name 'input_dataset' is not defined",
     "output_type": "error",
     "traceback": [
      "\u001b[0;31m---------------------------------------------------------------------------\u001b[0m",
      "\u001b[0;31mNameError\u001b[0m                                 Traceback (most recent call last)",
      "\u001b[0;32m/var/folders/qx/dqpgnjhs7ds1bvqgfr0sy43r0000gn/T/ipykernel_12669/2066093836.py\u001b[0m in \u001b[0;36m<module>\u001b[0;34m\u001b[0m\n\u001b[1;32m     21\u001b[0m \u001b[0;34m\u001b[0m\u001b[0m\n\u001b[1;32m     22\u001b[0m \u001b[0mrng\u001b[0m \u001b[0;34m=\u001b[0m \u001b[0mjax\u001b[0m\u001b[0;34m.\u001b[0m\u001b[0mrandom\u001b[0m\u001b[0;34m.\u001b[0m\u001b[0mPRNGKey\u001b[0m\u001b[0;34m(\u001b[0m\u001b[0;36m42\u001b[0m\u001b[0;34m)\u001b[0m\u001b[0;34m\u001b[0m\u001b[0;34m\u001b[0m\u001b[0m\n\u001b[0;32m---> 23\u001b[0;31m \u001b[0mdummy_images\u001b[0m\u001b[0;34m,\u001b[0m \u001b[0mdummy_labels\u001b[0m \u001b[0;34m=\u001b[0m \u001b[0mnext\u001b[0m\u001b[0;34m(\u001b[0m\u001b[0minput_dataset\u001b[0m\u001b[0;34m)\u001b[0m\u001b[0;34m\u001b[0m\u001b[0;34m\u001b[0m\u001b[0m\n\u001b[0m\u001b[1;32m     24\u001b[0m \u001b[0mparams\u001b[0m \u001b[0;34m=\u001b[0m \u001b[0mloss_fn_t\u001b[0m\u001b[0;34m.\u001b[0m\u001b[0minit\u001b[0m\u001b[0;34m(\u001b[0m\u001b[0mrng\u001b[0m\u001b[0;34m,\u001b[0m \u001b[0mdummy_images\u001b[0m\u001b[0;34m,\u001b[0m \u001b[0mdummy_labels\u001b[0m\u001b[0;34m)\u001b[0m\u001b[0;34m\u001b[0m\u001b[0;34m\u001b[0m\u001b[0m\n\u001b[1;32m     25\u001b[0m \u001b[0;34m\u001b[0m\u001b[0m\n",
      "\u001b[0;31mNameError\u001b[0m: name 'input_dataset' is not defined"
     ]
    }
   ],
   "source": [
    "import haiku as hk\n",
    "import tqdm\n",
    "import jax\n",
    "import jax.numpy as jnp\n",
    "\n",
    "def softmax_cross_entropy(logits, labels):\n",
    "  one_hot = jax.nn.one_hot(labels, logits.shape[-1])\n",
    "  return -jnp.sum(jax.nn.log_softmax(logits) * one_hot, axis=-1)\n",
    "\n",
    "def loss_fn(images, labels):\n",
    "  mlp = hk.Sequential([\n",
    "      hk.Linear(300), jax.nn.relu,\n",
    "      hk.Linear(100), jax.nn.relu,\n",
    "      hk.Linear(10),\n",
    "  ])\n",
    "  logits = mlp(images)\n",
    "  return jnp.mean(softmax_cross_entropy(logits, labels))\n",
    "\n",
    "loss_fn_t = hk.transform(loss_fn)\n",
    "loss_fn_t = hk.without_apply_rng(loss_fn_t)\n",
    "\n",
    "rng = jax.random.PRNGKey(42)\n",
    "dummy_images, dummy_labels = next(input_dataset)\n",
    "params = loss_fn_t.init(rng, dummy_images, dummy_labels)\n",
    "\n",
    "def update_rule(param, update):\n",
    "  return param - 0.01 * update\n",
    "\n",
    "for images, labels in tqdm.tqdm(input_dataset):\n",
    "  grads = jax.grad(loss_fn_t.apply)(params, images, labels)\n",
    "  params = jax.tree_multimap(update_rule, params, grads)"
   ]
  }
 ],
 "metadata": {
  "kernelspec": {
   "display_name": "Python 3 (ipykernel)",
   "language": "python",
   "name": "python3"
  },
  "language_info": {
   "codemirror_mode": {
    "name": "ipython",
    "version": 3
   },
   "file_extension": ".py",
   "mimetype": "text/x-python",
   "name": "python",
   "nbconvert_exporter": "python",
   "pygments_lexer": "ipython3",
   "version": "3.9.2"
  }
 },
 "nbformat": 4,
 "nbformat_minor": 5
}
